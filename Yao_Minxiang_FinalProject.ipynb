{
 "cells": [
  {
   "cell_type": "code",
   "execution_count": 25,
   "metadata": {},
   "outputs": [],
   "source": [
    "import numpy as np\n",
    "import matplotlib.pyplot as plt\n",
    "import pandas as pd"
   ]
  },
  {
   "cell_type": "code",
   "execution_count": 26,
   "metadata": {},
   "outputs": [],
   "source": [
    "from keras.datasets import imdb\n",
    "(x_train, y_train), (x_test, y_test) = imdb.load_data(path=\"imdb.npz\",\n",
    "                                                      num_words=None,\n",
    "                                                      skip_top=0,\n",
    "                                                      maxlen=None,\n",
    "                                                      seed=113,\n",
    "                                                      start_char=1,\n",
    "                                                      oov_char=2,\n",
    "                                                      index_from=3)"
   ]
  },
  {
   "cell_type": "code",
   "execution_count": 27,
   "metadata": {},
   "outputs": [],
   "source": [
    "from __future__ import print_function\n",
    "from keras.preprocessing import sequence\n",
    "from keras.models import Sequential\n",
    "from keras.layers import Dense,Flatten,Embedding\n",
    "from keras.layers import LSTM\n",
    "from keras.datasets import imdb"
   ]
  },
  {
   "cell_type": "code",
   "execution_count": 28,
   "metadata": {},
   "outputs": [],
   "source": [
    "max_features = np.max([np.max(x_train[i]) for i in range (x_train.shape[0])]) + 1  \n",
    "maxlen = 100\n",
    "batch_size = 32"
   ]
  },
  {
   "cell_type": "code",
   "execution_count": 29,
   "metadata": {},
   "outputs": [
    {
     "name": "stdout",
     "output_type": "stream",
     "text": [
      "Loading data...\n",
      "25000 train sequences\n",
      "25000 test sequences\n",
      "Pad sequences (samples x time)\n",
      "x_train shape: (25000, 100)\n",
      "x_test shape: (25000, 100)\n"
     ]
    }
   ],
   "source": [
    "print('Loading data...')\n",
    "(x_train, y_train), (x_test, y_test) = imdb.load_data(path='./imdb.npz',num_words=max_features)\n",
    "print(len(x_train), 'train sequences')\n",
    "print(len(x_test), 'test sequences')\n",
    "print('Pad sequences (samples x time)')\n",
    "x_train = sequence.pad_sequences(x_train, maxlen=maxlen)\n",
    "x_test = sequence.pad_sequences(x_test, maxlen=maxlen)\n",
    "print('x_train shape:', x_train.shape)\n",
    "print('x_test shape:', x_test.shape)"
   ]
  },
  {
   "cell_type": "code",
   "execution_count": 30,
   "metadata": {},
   "outputs": [
    {
     "name": "stdout",
     "output_type": "stream",
     "text": [
      "Build model...\n",
      "Train...\n",
      "Train on 25000 samples, validate on 25000 samples\n",
      "Epoch 1/15\n",
      "25000/25000 [==============================] - 245s 10ms/step - loss: 0.4490 - acc: 0.7890 - val_loss: 0.3831 - val_acc: 0.8354\n",
      "Epoch 2/15\n",
      "25000/25000 [==============================] - 247s 10ms/step - loss: 0.2679 - acc: 0.8946 - val_loss: 0.3764 - val_acc: 0.8340\n",
      "Epoch 3/15\n",
      "25000/25000 [==============================] - 241s 10ms/step - loss: 0.1620 - acc: 0.9402 - val_loss: 0.4241 - val_acc: 0.8166\n",
      "Epoch 4/15\n",
      "25000/25000 [==============================] - 245s 10ms/step - loss: 0.1035 - acc: 0.9646 - val_loss: 0.5374 - val_acc: 0.8022\n",
      "Epoch 5/15\n",
      "25000/25000 [==============================] - 252s 10ms/step - loss: 0.0690 - acc: 0.9765 - val_loss: 0.7188 - val_acc: 0.8257\n",
      "Epoch 6/15\n",
      "25000/25000 [==============================] - 249s 10ms/step - loss: 0.0449 - acc: 0.9850 - val_loss: 0.6669 - val_acc: 0.8260\n",
      "Epoch 7/15\n",
      "25000/25000 [==============================] - 247s 10ms/step - loss: 0.0359 - acc: 0.9880 - val_loss: 0.6974 - val_acc: 0.8246\n",
      "Epoch 8/15\n",
      "25000/25000 [==============================] - 247s 10ms/step - loss: 0.0213 - acc: 0.9934 - val_loss: 0.7964 - val_acc: 0.8214\n",
      "Epoch 9/15\n",
      "25000/25000 [==============================] - 245s 10ms/step - loss: 0.0144 - acc: 0.9950 - val_loss: 1.0846 - val_acc: 0.8178\n",
      "Epoch 10/15\n",
      "25000/25000 [==============================] - 242s 10ms/step - loss: 0.0149 - acc: 0.9952 - val_loss: 0.9612 - val_acc: 0.8159\n",
      "Epoch 11/15\n",
      "25000/25000 [==============================] - 244s 10ms/step - loss: 0.0099 - acc: 0.9972 - val_loss: 0.9817 - val_acc: 0.8212\n",
      "Epoch 12/15\n",
      "25000/25000 [==============================] - 247s 10ms/step - loss: 0.0075 - acc: 0.9976 - val_loss: 1.0337 - val_acc: 0.8190\n",
      "Epoch 13/15\n",
      "25000/25000 [==============================] - 247s 10ms/step - loss: 0.0075 - acc: 0.9977 - val_loss: 0.9869 - val_acc: 0.8194\n",
      "Epoch 14/15\n",
      "25000/25000 [==============================] - 248s 10ms/step - loss: 0.0045 - acc: 0.9987 - val_loss: 1.1250 - val_acc: 0.8170\n",
      "Epoch 15/15\n",
      "25000/25000 [==============================] - 248s 10ms/step - loss: 0.0055 - acc: 0.9985 - val_loss: 1.2383 - val_acc: 0.8147\n",
      "25000/25000 [==============================] - 19s 758us/step\n"
     ]
    }
   ],
   "source": [
    "print('Build model...')\n",
    "model = Sequential()\n",
    "model.add(Embedding(max_features, 128))\n",
    "model.add(LSTM(128, dropout=0.2, recurrent_dropout=0.2))\n",
    "model.add(Dense(1, activation='sigmoid'))\n",
    "\n",
    "model.compile(loss='binary_crossentropy',\n",
    "              optimizer='adam',\n",
    "              metrics=['accuracy'])\n",
    "\n",
    "print('Train...')\n",
    "model.fit(x_train, y_train,\n",
    "          batch_size=batch_size,\n",
    "          epochs=15,\n",
    "          validation_data=(x_test, y_test))\n",
    "score1, acc1 = model.evaluate(x_test, y_test,\n",
    "                            batch_size=batch_size)"
   ]
  },
  {
   "cell_type": "code",
   "execution_count": 31,
   "metadata": {},
   "outputs": [
    {
     "name": "stdout",
     "output_type": "stream",
     "text": [
      "Test score: 1.23830749359\n",
      "Test accuracy: 0.81468\n"
     ]
    }
   ],
   "source": [
    "print('Test score:', score1)\n",
    "print('Test accuracy:', acc1)"
   ]
  },
  {
   "cell_type": "code",
   "execution_count": 23,
   "metadata": {},
   "outputs": [
    {
     "name": "stdout",
     "output_type": "stream",
     "text": [
      "max_features2: 20000\n",
      "_________________________________________________________________\n",
      "Layer (type)                 Output Shape              Param #   \n",
      "=================================================================\n",
      "embedding_7 (Embedding)      (None, 80, 64)            1280000   \n",
      "_________________________________________________________________\n",
      "flatten_2 (Flatten)          (None, 5120)              0         \n",
      "_________________________________________________________________\n",
      "dense_9 (Dense)              (None, 2000)              10242000  \n",
      "_________________________________________________________________\n",
      "dense_10 (Dense)             (None, 500)               1000500   \n",
      "_________________________________________________________________\n",
      "dense_11 (Dense)             (None, 200)               100200    \n",
      "_________________________________________________________________\n",
      "dense_12 (Dense)             (None, 50)                10050     \n",
      "_________________________________________________________________\n",
      "dense_13 (Dense)             (None, 1)                 51        \n",
      "=================================================================\n",
      "Total params: 12,632,801\n",
      "Trainable params: 12,632,801\n",
      "Non-trainable params: 0\n",
      "_________________________________________________________________\n",
      "None\n",
      "Train on 25000 samples, validate on 25000 samples\n",
      "Epoch 1/15\n",
      "25000/25000 [==============================] - 88s 4ms/step - loss: 0.4656 - acc: 0.7582 - val_loss: 0.3614 - val_acc: 0.8400\n",
      "Epoch 2/15\n",
      "25000/25000 [==============================] - 87s 3ms/step - loss: 0.1197 - acc: 0.9588 - val_loss: 0.5572 - val_acc: 0.8046\n",
      "Epoch 3/15\n",
      "25000/25000 [==============================] - 85s 3ms/step - loss: 0.0166 - acc: 0.9942 - val_loss: 0.9842 - val_acc: 0.8007\n",
      "Epoch 4/15\n",
      "25000/25000 [==============================] - 85s 3ms/step - loss: 0.0088 - acc: 0.9971 - val_loss: 1.3100 - val_acc: 0.8052\n",
      "Epoch 5/15\n",
      "25000/25000 [==============================] - 85s 3ms/step - loss: 0.0127 - acc: 0.9960 - val_loss: 0.9996 - val_acc: 0.8040\n",
      "Epoch 6/15\n",
      "25000/25000 [==============================] - 85s 3ms/step - loss: 0.0099 - acc: 0.9966 - val_loss: 1.0160 - val_acc: 0.8030\n",
      "Epoch 7/15\n",
      "25000/25000 [==============================] - 85s 3ms/step - loss: 0.0048 - acc: 0.9987 - val_loss: 1.4272 - val_acc: 0.7997\n",
      "Epoch 8/15\n",
      "25000/25000 [==============================] - 86s 3ms/step - loss: 0.0037 - acc: 0.9986 - val_loss: 1.6815 - val_acc: 0.7981\n",
      "Epoch 9/15\n",
      "25000/25000 [==============================] - 85s 3ms/step - loss: 0.0038 - acc: 0.9989 - val_loss: 1.6016 - val_acc: 0.8000\n",
      "Epoch 10/15\n",
      "25000/25000 [==============================] - 85s 3ms/step - loss: 0.0057 - acc: 0.9981 - val_loss: 1.3817 - val_acc: 0.7923\n",
      "Epoch 11/15\n",
      "25000/25000 [==============================] - 85s 3ms/step - loss: 0.0076 - acc: 0.9976 - val_loss: 1.8200 - val_acc: 0.7908\n",
      "Epoch 12/15\n",
      "25000/25000 [==============================] - 85s 3ms/step - loss: 0.0070 - acc: 0.9975 - val_loss: 1.4783 - val_acc: 0.7961\n",
      "Epoch 13/15\n",
      "25000/25000 [==============================] - 87s 3ms/step - loss: 0.0048 - acc: 0.9982 - val_loss: 1.6103 - val_acc: 0.7901\n",
      "Epoch 14/15\n",
      "25000/25000 [==============================] - 85s 3ms/step - loss: 0.0041 - acc: 0.9987 - val_loss: 1.2310 - val_acc: 0.7924\n",
      "Epoch 15/15\n",
      "25000/25000 [==============================] - 85s 3ms/step - loss: 0.0052 - acc: 0.9981 - val_loss: 1.5901 - val_acc: 0.7914\n",
      "25000/25000 [==============================] - 13s 513us/step\n"
     ]
    }
   ],
   "source": [
    "max_features2 = np.max([np.max(x_train[i]) for i in range (x_train.shape[0])]) + 1  \n",
    "print('max_features2:',max_features2)                    \n",
    "\n",
    "model = Sequential()  \n",
    "model.add(Embedding(max_features2, 64, input_length=maxlen))  \n",
    "model.add(Flatten())  \n",
    "model.add(Dense(2000, activation='relu'))  \n",
    "model.add(Dense(500, activation='relu'))  \n",
    "model.add(Dense(200, activation='relu'))  \n",
    "model.add(Dense(50, activation='relu'))  \n",
    "model.add(Dense(1,activation='sigmoid'))  \n",
    "  \n",
    "model.compile(loss='binary_crossentropy', optimizer='adam', metrics=['accuracy'])  \n",
    "print(model.summary())  \n",
    "  \n",
    "model.fit(x_train, y_train, validation_data=(x_test, y_test), epochs=15, batch_size=100, verbose=1)  \n",
    "score2, acc2 = model.evaluate(x_test, y_test,\n",
    "                            batch_size=batch_size)"
   ]
  },
  {
   "cell_type": "code",
   "execution_count": 24,
   "metadata": {},
   "outputs": [
    {
     "name": "stdout",
     "output_type": "stream",
     "text": [
      "Test score: 1.59009288939\n",
      "Test accuracy: 0.79144\n"
     ]
    }
   ],
   "source": [
    "print('Test score:', score2)\n",
    "print('Test accuracy:', acc2)"
   ]
  },
  {
   "cell_type": "code",
   "execution_count": 34,
   "metadata": {},
   "outputs": [
    {
     "name": "stdout",
     "output_type": "stream",
     "text": [
      "_________________________________________________________________\n",
      "Layer (type)                 Output Shape              Param #   \n",
      "=================================================================\n",
      "embedding_10 (Embedding)     (None, 400, 64)           5669568   \n",
      "_________________________________________________________________\n",
      "flatten_4 (Flatten)          (None, 25600)             0         \n",
      "_________________________________________________________________\n",
      "dense_20 (Dense)             (None, 2000)              51202000  \n",
      "_________________________________________________________________\n",
      "dense_21 (Dense)             (None, 500)               1000500   \n",
      "_________________________________________________________________\n",
      "dense_22 (Dense)             (None, 200)               100200    \n",
      "_________________________________________________________________\n",
      "dense_23 (Dense)             (None, 50)                10050     \n",
      "_________________________________________________________________\n",
      "dense_24 (Dense)             (None, 1)                 51        \n",
      "=================================================================\n",
      "Total params: 57,982,369\n",
      "Trainable params: 57,982,369\n",
      "Non-trainable params: 0\n",
      "_________________________________________________________________\n",
      "None\n",
      "Train on 25000 samples, validate on 25000 samples\n",
      "Epoch 1/15\n",
      "25000/25000 [==============================] - 393s 16ms/step - loss: 0.4289 - acc: 0.7787 - val_loss: 0.3162 - val_acc: 0.8680\n",
      "Epoch 2/15\n",
      "25000/25000 [==============================] - 386s 15ms/step - loss: 0.0732 - acc: 0.9746 - val_loss: 0.3968 - val_acc: 0.8481\n",
      "Epoch 3/15\n",
      "25000/25000 [==============================] - 383s 15ms/step - loss: 0.0048 - acc: 0.9983 - val_loss: 0.6783 - val_acc: 0.8464\n",
      "Epoch 4/15\n",
      "25000/25000 [==============================] - 383s 15ms/step - loss: 6.0707e-04 - acc: 0.9998 - val_loss: 1.0699 - val_acc: 0.8478\n",
      "Epoch 5/15\n",
      "25000/25000 [==============================] - 380s 15ms/step - loss: 0.0052 - acc: 0.9984 - val_loss: 0.9906 - val_acc: 0.8424\n",
      "Epoch 6/15\n",
      "25000/25000 [==============================] - 379s 15ms/step - loss: 0.0117 - acc: 0.9965 - val_loss: 0.8973 - val_acc: 0.8382\n",
      "Epoch 7/15\n",
      "25000/25000 [==============================] - 378s 15ms/step - loss: 0.0084 - acc: 0.9972 - val_loss: 1.0256 - val_acc: 0.8326\n",
      "Epoch 8/15\n",
      "25000/25000 [==============================] - 378s 15ms/step - loss: 0.0057 - acc: 0.9983 - val_loss: 0.7998 - val_acc: 0.8416\n",
      "Epoch 9/15\n",
      "25000/25000 [==============================] - 380s 15ms/step - loss: 0.0036 - acc: 0.9990 - val_loss: 0.9293 - val_acc: 0.8403\n",
      "Epoch 10/15\n",
      "25000/25000 [==============================] - 379s 15ms/step - loss: 0.0032 - acc: 0.9991 - val_loss: 0.9444 - val_acc: 0.8369\n",
      "Epoch 11/15\n",
      "25000/25000 [==============================] - 378s 15ms/step - loss: 0.0040 - acc: 0.9990 - val_loss: 1.0873 - val_acc: 0.8296\n",
      "Epoch 12/15\n",
      "25000/25000 [==============================] - 392s 16ms/step - loss: 0.0045 - acc: 0.9987 - val_loss: 1.0041 - val_acc: 0.8359\n",
      "Epoch 13/15\n",
      "25000/25000 [==============================] - 379s 15ms/step - loss: 0.0015 - acc: 0.9996 - val_loss: 1.4024 - val_acc: 0.8370\n",
      "Epoch 14/15\n",
      "25000/25000 [==============================] - 380s 15ms/step - loss: 0.0041 - acc: 0.9987 - val_loss: 1.3259 - val_acc: 0.8391\n",
      "Epoch 15/15\n",
      "25000/25000 [==============================] - 384s 15ms/step - loss: 0.0023 - acc: 0.9994 - val_loss: 1.4488 - val_acc: 0.8334\n",
      "25000/25000 [==============================] - 56s 2ms/step\n"
     ]
    }
   ],
   "source": [
    "maxlen = 400  \n",
    "x_train = sequence.pad_sequences(x_train, maxlen=maxlen)  \n",
    "x_test = sequence.pad_sequences(x_test, maxlen=maxlen)  \n",
    "max_features3 = np.max([np.max(x_train[i]) for i in range (x_train.shape[0])]) + 1  \n",
    "model = Sequential()  \n",
    "model.add(Embedding(max_features3, 64, input_length=maxlen))  \n",
    "model.add(Flatten())  \n",
    "model.add(Dense(2000, activation='relu'))  \n",
    "model.add(Dense(500, activation='relu'))  \n",
    "model.add(Dense(200, activation='relu'))  \n",
    "model.add(Dense(50, activation='relu'))  \n",
    "model.add(Dense(1,activation='sigmoid'))  \n",
    "  \n",
    "model.compile(loss='binary_crossentropy', optimizer='adam', metrics=['accuracy'])  \n",
    "print(model.summary())  \n",
    "  \n",
    "model.fit(x_train, y_train, validation_data=(x_test, y_test), epochs=15, batch_size=100, verbose=1)  \n",
    "score3, acc3 = model.evaluate(x_test, y_test,\n",
    "                            batch_size=batch_size) "
   ]
  },
  {
   "cell_type": "code",
   "execution_count": 35,
   "metadata": {},
   "outputs": [
    {
     "name": "stdout",
     "output_type": "stream",
     "text": [
      "Test score: 1.44877897744\n",
      "Test accuracy: 0.83344\n"
     ]
    }
   ],
   "source": [
    "print('Test score:', score3)\n",
    "print('Test accuracy:', acc3)"
   ]
  }
 ],
 "metadata": {
  "kernelspec": {
   "display_name": "Python 3",
   "language": "python",
   "name": "python3"
  },
  "language_info": {
   "codemirror_mode": {
    "name": "ipython",
    "version": 3
   },
   "file_extension": ".py",
   "mimetype": "text/x-python",
   "name": "python",
   "nbconvert_exporter": "python",
   "pygments_lexer": "ipython3",
   "version": "3.6.3"
  }
 },
 "nbformat": 4,
 "nbformat_minor": 2
}
